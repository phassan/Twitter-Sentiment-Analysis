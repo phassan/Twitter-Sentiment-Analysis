{
 "cells": [
  {
   "cell_type": "markdown",
   "metadata": {},
   "source": [
    "## Twitter Sentiment Analysis using CNNs and LSTMs with GloVe pre-trained word embeddings"
   ]
  },
  {
   "cell_type": "code",
   "execution_count": 1,
   "metadata": {},
   "outputs": [],
   "source": [
    "import numpy as np\n",
    "import pandas as pd\n",
    "import re "
   ]
  },
  {
   "cell_type": "markdown",
   "metadata": {},
   "source": [
    "### Loading the Data"
   ]
  },
  {
   "cell_type": "code",
   "execution_count": 2,
   "metadata": {},
   "outputs": [
    {
     "name": "stderr",
     "output_type": "stream",
     "text": [
      "b'Skipping line 8836: expected 4 fields, saw 5\\n'\n",
      "b'Skipping line 535882: expected 4 fields, saw 7\\n'\n"
     ]
    },
    {
     "data": {
      "text/html": [
       "<div>\n",
       "<style scoped>\n",
       "    .dataframe tbody tr th:only-of-type {\n",
       "        vertical-align: middle;\n",
       "    }\n",
       "\n",
       "    .dataframe tbody tr th {\n",
       "        vertical-align: top;\n",
       "    }\n",
       "\n",
       "    .dataframe thead th {\n",
       "        text-align: right;\n",
       "    }\n",
       "</style>\n",
       "<table border=\"1\" class=\"dataframe\">\n",
       "  <thead>\n",
       "    <tr style=\"text-align: right;\">\n",
       "      <th></th>\n",
       "      <th>ItemID</th>\n",
       "      <th>Sentiment</th>\n",
       "      <th>SentimentSource</th>\n",
       "      <th>SentimentText</th>\n",
       "    </tr>\n",
       "  </thead>\n",
       "  <tbody>\n",
       "    <tr>\n",
       "      <th>0</th>\n",
       "      <td>1</td>\n",
       "      <td>0</td>\n",
       "      <td>Sentiment140</td>\n",
       "      <td>is so sad for my APL frie...</td>\n",
       "    </tr>\n",
       "    <tr>\n",
       "      <th>1</th>\n",
       "      <td>2</td>\n",
       "      <td>0</td>\n",
       "      <td>Sentiment140</td>\n",
       "      <td>I missed the New Moon trail...</td>\n",
       "    </tr>\n",
       "    <tr>\n",
       "      <th>2</th>\n",
       "      <td>3</td>\n",
       "      <td>1</td>\n",
       "      <td>Sentiment140</td>\n",
       "      <td>omg its already 7:30 :O</td>\n",
       "    </tr>\n",
       "    <tr>\n",
       "      <th>3</th>\n",
       "      <td>4</td>\n",
       "      <td>0</td>\n",
       "      <td>Sentiment140</td>\n",
       "      <td>.. Omgaga. Im sooo  im gunna CRy. I'...</td>\n",
       "    </tr>\n",
       "    <tr>\n",
       "      <th>4</th>\n",
       "      <td>5</td>\n",
       "      <td>0</td>\n",
       "      <td>Sentiment140</td>\n",
       "      <td>i think mi bf is cheating on me!!!   ...</td>\n",
       "    </tr>\n",
       "  </tbody>\n",
       "</table>\n",
       "</div>"
      ],
      "text/plain": [
       "   ItemID  Sentiment SentimentSource  \\\n",
       "0       1          0    Sentiment140   \n",
       "1       2          0    Sentiment140   \n",
       "2       3          1    Sentiment140   \n",
       "3       4          0    Sentiment140   \n",
       "4       5          0    Sentiment140   \n",
       "\n",
       "                                       SentimentText  \n",
       "0                       is so sad for my APL frie...  \n",
       "1                     I missed the New Moon trail...  \n",
       "2                            omg its already 7:30 :O  \n",
       "3            .. Omgaga. Im sooo  im gunna CRy. I'...  \n",
       "4           i think mi bf is cheating on me!!!   ...  "
      ]
     },
     "execution_count": 2,
     "metadata": {},
     "output_type": "execute_result"
    }
   ],
   "source": [
    "data = pd.read_csv('Sentiment Analysis Dataset.csv', error_bad_lines=False)\n",
    "data.head()"
   ]
  },
  {
   "cell_type": "code",
   "execution_count": 3,
   "metadata": {},
   "outputs": [
    {
     "data": {
      "text/plain": [
       "1    790177\n",
       "0    788435\n",
       "Name: Sentiment, dtype: int64"
      ]
     },
     "execution_count": 3,
     "metadata": {},
     "output_type": "execute_result"
    }
   ],
   "source": [
    "data['Sentiment'].value_counts()"
   ]
  },
  {
   "cell_type": "markdown",
   "metadata": {},
   "source": [
    "### Data Preprocessing"
   ]
  },
  {
   "cell_type": "code",
   "execution_count": 4,
   "metadata": {},
   "outputs": [],
   "source": [
    "contractions_dict = {\"ain't\": \"is not\",\n",
    "                    \"aren't\": \"are not\",\n",
    "                    \"can't\": \"cannot\", \n",
    "                    \"can't've\": \"cannot have\", \n",
    "                    \"'cause\": \"because\", \n",
    "                    \"could've\": \"could have\", \n",
    "                    \"couldn't\": \"could not\", \n",
    "                    \"couldn't've\": \"could not have\",\n",
    "                    \"didn't\": \"did not\", \n",
    "                    \"doesn't\": \"does not\", \n",
    "                    \"don't\": \"do not\", \n",
    "                    \"hadn't\": \"had not\",  \n",
    "                    \"hadn't've\": \"had not have\", \n",
    "                    \"hasn't\": \"has not\", \n",
    "                    \"haven't\": \"have not\", \n",
    "                    \"he'd\": \"he would\", \n",
    "                    \"he'd've\": \"he would have\", \n",
    "                    \"he'll\": \"he will\", \n",
    "                    \"he'll've\": \"he will have\", \n",
    "                    \"he's\": \"he is\", \n",
    "                    \"how'd\": \"how did\", \n",
    "                    \"how'd'y\": \"how do you\", \n",
    "                    \"how'll\": \"how will\", \n",
    "                    \"how's\": \"how is\", \n",
    "                    \"I'd\": \"I would\", \n",
    "                    \"I'd've\": \"I would have\", \n",
    "                    \"I'll\": \"I will\", \n",
    "                    \"I'll've\": \"I will have\",\n",
    "                    \"I'm\": \"I am\", \n",
    "                    \"I've\": \"I have\", \n",
    "                    \"i'd\": \"i would\", \n",
    "                    \"i'd've\": \"i would have\", \n",
    "                    \"i'll\": \"i will\", \n",
    "                    \"i'll've\": \"i will have\",\n",
    "                    \"i'm\": \"i am\", \n",
    "                    \"i've\": \"i have\", \n",
    "                    \"isn't\": \"is not\", \n",
    "                    \"it'd\": \"it would\", \n",
    "                    \"it'd've\": \"it would have\", \n",
    "                    \"it'll\": \"it will\", \n",
    "                    \"it'll've\": \"it will have\",\n",
    "                    \"it's\": \"it is\", \n",
    "                    \"let's\": \"let us\", \n",
    "                    \"ma'am\": \"madam\", \n",
    "                    \"mayn't\": \"may not\", \n",
    "                    \"might've\": \"might have\",\n",
    "                    \"mightn't\": \"might not\",\n",
    "                    \"mightn't've\": \"might not have\", \n",
    "                    \"must've\": \"must have\", \n",
    "                    \"mustn't\": \"must not\", \n",
    "                    \"mustn't've\": \"must not have\", \n",
    "                    \"needn't\": \"need not\", \n",
    "                    \"needn't've\": \"need not have\",\n",
    "                    \"o'clock\": \"of the clock\", \n",
    "                    \"oughtn't\": \"ought not\", \n",
    "                    \"oughtn't've\": \"ought not have\", \n",
    "                    \"shan't\": \"shall not\",\n",
    "                    \"sha'n't\": \"shall not\", \n",
    "                    \"shan't've\": \"shall not have\", \n",
    "                    \"she'd\": \"she would\", \n",
    "                    \"she'd've\": \"she would have\", \n",
    "                    \"she'll\": \"she will\", \n",
    "                    \"she'll've\": \"she will have\", \n",
    "                    \"she's\": \"she is\", \n",
    "                    \"should've\": \"should have\", \n",
    "                    \"shouldn't\": \"should not\", \n",
    "                    \"shouldn't've\": \"should not have\", \n",
    "                    \"so've\": \"so have\",\n",
    "                    \"so's\": \"so as\", \n",
    "                    \"this's\": \"this is\",\n",
    "                    \"that'd\": \"that would\", \n",
    "                    \"that'd've\": \"that would have\",\n",
    "                    \"that's\": \"that is\", \n",
    "                    \"there'd\": \"there would\", \n",
    "                    \"there'd've\": \"there would have\",\n",
    "                    \"there's\": \"there is\", \n",
    "                    \"here's\": \"here is\",\n",
    "                    \"they'd\": \"they would\", \n",
    "                    \"they'd've\": \"they would have\", \n",
    "                    \"they'll\": \"they will\", \n",
    "                    \"they'll've\": \"they will have\", \n",
    "                    \"they're\": \"they are\", \n",
    "                    \"they've\": \"they have\",\n",
    "                    \"to've\": \"to have\", \n",
    "                    \"wasn't\": \"was not\", \n",
    "                    \"we'd\": \"we would\", \n",
    "                    \"we'd've\": \"we would have\", \n",
    "                    \"we'll\": \"we will\", \n",
    "                    \"we'll've\": \"we will have\", \n",
    "                    \"we're\": \"we are\", \n",
    "                    \"we've\": \"we have\", \n",
    "                    \"weren't\": \"were not\",\n",
    "                    \"what'll\": \"what will\", \n",
    "                    \"what'll've\": \"what will have\", \n",
    "                    \"what're\": \"what are\", \n",
    "                    \"what's\": \"what is\", \n",
    "                    \"what've\": \"what have\", \n",
    "                    \"when's\": \"when is\", \n",
    "                    \"when've\": \"when have\", \n",
    "                    \"where'd\": \"where did\", \n",
    "                    \"where's\": \"where is\", \n",
    "                    \"where've\": \"where have\", \n",
    "                    \"who'll\": \"who will\", \n",
    "                    \"who'll've\": \"who will have\", \n",
    "                    \"who's\": \"who is\", \n",
    "                    \"who've\": \"who have\", \n",
    "                    \"why's\": \"why is\", \n",
    "                    \"why've\": \"why have\", \n",
    "                    \"will've\": \"will have\", \n",
    "                    \"won't\": \"will not\",\n",
    "                    \"won't've\": \"will not have\", \n",
    "                    \"would've\": \"would have\", \n",
    "                    \"wouldn't\": \"would not\", \n",
    "                    \"wouldn't've\": \"would not have\", \n",
    "                    \"y'all\": \"you all\", \n",
    "                    \"y'all'd\": \"you all would\",\n",
    "                    \"y'all'd've\": \"you all would have\",\n",
    "                    \"y'all're\": \"you all are\",\n",
    "                    \"y'all've\": \"you all have\",\n",
    "                    \"you'd\": \"you would\", \n",
    "                    \"you'd've\": \"you would have\", \n",
    "                    \"you'll\": \"you will\", \n",
    "                    \"you'll've\": \"you will have\", \n",
    "                    \"you're\": \"you are\", \n",
    "                    \"you've\": \"you have\" }"
   ]
  },
  {
   "cell_type": "code",
   "execution_count": 5,
   "metadata": {},
   "outputs": [],
   "source": [
    "def expand_contractions(s, contractions_dict=contractions_dict):\n",
    "    for key in contractions_dict:\n",
    "        value = contractions_dict[key]\n",
    "        s = s.replace(key, value)   \n",
    "    return s"
   ]
  },
  {
   "cell_type": "code",
   "execution_count": 6,
   "metadata": {},
   "outputs": [],
   "source": [
    "def text_cleaner(s):\n",
    "        s = str(s)\n",
    "        s = s.lower()\n",
    "        s = expand_contractions(s) \n",
    "        s = re.sub(r'([a-z0-9\\.\\-+_]+@[a-z0-9\\.\\-+_]+\\.[a-z]+)', '', s) # remove emails\n",
    "        s = re.sub(r'(?:(?:http|https|ftp):\\/\\/)?([-a-zA-Z0-9.]{2,256}\\.[a-z]{2,4})\\b(?:\\/[-a-zA-Z0-9@:%_\\+.~#?&//=]*)?', '', s, flags=re.MULTILINE) # remove URLs\n",
    "        s = re.sub(r'(www.[^ ]+)', '', s) # remove websites\n",
    "        s = re.sub(r'(@[\\w_]+)', '', s) # remove @-mention\n",
    "        s = re.sub(r'([:=;] [oO\\-]?[D\\)\\]\\(\\]/\\\\OpP])', '', s) # remove emoticons\n",
    "        s = re.sub(r'(?:\\#+[\\w_]+[\\w\\'_\\-]*[\\w_]+)', '', s) # remove hash-tags\n",
    "        s = re.sub('RT', '', s) # remove retweets\n",
    "        s = re.sub('[^a-z A-Z]+', '', s) # keeping only text\n",
    "        return s.strip()"
   ]
  },
  {
   "cell_type": "code",
   "execution_count": 7,
   "metadata": {},
   "outputs": [
    {
     "data": {
      "text/html": [
       "<div>\n",
       "<style scoped>\n",
       "    .dataframe tbody tr th:only-of-type {\n",
       "        vertical-align: middle;\n",
       "    }\n",
       "\n",
       "    .dataframe tbody tr th {\n",
       "        vertical-align: top;\n",
       "    }\n",
       "\n",
       "    .dataframe thead th {\n",
       "        text-align: right;\n",
       "    }\n",
       "</style>\n",
       "<table border=\"1\" class=\"dataframe\">\n",
       "  <thead>\n",
       "    <tr style=\"text-align: right;\">\n",
       "      <th></th>\n",
       "      <th>ItemID</th>\n",
       "      <th>Sentiment</th>\n",
       "      <th>SentimentSource</th>\n",
       "      <th>SentimentText</th>\n",
       "      <th>clean_text</th>\n",
       "    </tr>\n",
       "  </thead>\n",
       "  <tbody>\n",
       "    <tr>\n",
       "      <th>0</th>\n",
       "      <td>1</td>\n",
       "      <td>0</td>\n",
       "      <td>Sentiment140</td>\n",
       "      <td>is so sad for my APL frie...</td>\n",
       "      <td>is so sad for my apl friend</td>\n",
       "    </tr>\n",
       "    <tr>\n",
       "      <th>1</th>\n",
       "      <td>2</td>\n",
       "      <td>0</td>\n",
       "      <td>Sentiment140</td>\n",
       "      <td>I missed the New Moon trail...</td>\n",
       "      <td>i missed the new moon trailer</td>\n",
       "    </tr>\n",
       "    <tr>\n",
       "      <th>2</th>\n",
       "      <td>3</td>\n",
       "      <td>1</td>\n",
       "      <td>Sentiment140</td>\n",
       "      <td>omg its already 7:30 :O</td>\n",
       "      <td>omg its already  o</td>\n",
       "    </tr>\n",
       "    <tr>\n",
       "      <th>3</th>\n",
       "      <td>4</td>\n",
       "      <td>0</td>\n",
       "      <td>Sentiment140</td>\n",
       "      <td>.. Omgaga. Im sooo  im gunna CRy. I'...</td>\n",
       "      <td>omgaga im sooo  im gunna cry i have been at th...</td>\n",
       "    </tr>\n",
       "    <tr>\n",
       "      <th>4</th>\n",
       "      <td>5</td>\n",
       "      <td>0</td>\n",
       "      <td>Sentiment140</td>\n",
       "      <td>i think mi bf is cheating on me!!!   ...</td>\n",
       "      <td>i think mi bf is cheating on me       tt</td>\n",
       "    </tr>\n",
       "  </tbody>\n",
       "</table>\n",
       "</div>"
      ],
      "text/plain": [
       "   ItemID  Sentiment SentimentSource  \\\n",
       "0       1          0    Sentiment140   \n",
       "1       2          0    Sentiment140   \n",
       "2       3          1    Sentiment140   \n",
       "3       4          0    Sentiment140   \n",
       "4       5          0    Sentiment140   \n",
       "\n",
       "                                       SentimentText  \\\n",
       "0                       is so sad for my APL frie...   \n",
       "1                     I missed the New Moon trail...   \n",
       "2                            omg its already 7:30 :O   \n",
       "3            .. Omgaga. Im sooo  im gunna CRy. I'...   \n",
       "4           i think mi bf is cheating on me!!!   ...   \n",
       "\n",
       "                                          clean_text  \n",
       "0                        is so sad for my apl friend  \n",
       "1                      i missed the new moon trailer  \n",
       "2                                 omg its already  o  \n",
       "3  omgaga im sooo  im gunna cry i have been at th...  \n",
       "4           i think mi bf is cheating on me       tt  "
      ]
     },
     "execution_count": 7,
     "metadata": {},
     "output_type": "execute_result"
    }
   ],
   "source": [
    "data['clean_text'] = data['SentimentText'].apply(lambda s:text_cleaner(s))\n",
    "data.head()"
   ]
  },
  {
   "cell_type": "code",
   "execution_count": 8,
   "metadata": {},
   "outputs": [
    {
     "data": {
      "text/plain": [
       "['is so sad for my apl friend',\n",
       " 'i missed the new moon trailer',\n",
       " 'omg its already  o']"
      ]
     },
     "execution_count": 8,
     "metadata": {},
     "output_type": "execute_result"
    }
   ],
   "source": [
    "sentences = data['clean_text'].tolist()\n",
    "sentences[:3]"
   ]
  },
  {
   "cell_type": "markdown",
   "metadata": {},
   "source": [
    "### Build the model"
   ]
  },
  {
   "cell_type": "code",
   "execution_count": 9,
   "metadata": {},
   "outputs": [],
   "source": [
    "from tensorflow.keras.preprocessing.text import Tokenizer\n",
    "from tensorflow.keras.preprocessing.sequence import pad_sequences\n",
    "from tensorflow.keras.models import Sequential\n",
    "from tensorflow.keras.layers import Dropout, Dense, Conv1D, MaxPooling1D, Embedding, LSTM\n",
    "from tensorflow.keras.optimizers import Adam "
   ]
  },
  {
   "cell_type": "code",
   "execution_count": 10,
   "metadata": {},
   "outputs": [],
   "source": [
    "embedding_dim = 200\n",
    "max_length = 120\n",
    "trunc_type='post'\n",
    "padding_type='post'"
   ]
  },
  {
   "cell_type": "code",
   "execution_count": 11,
   "metadata": {},
   "outputs": [],
   "source": [
    "tokenizer = Tokenizer()\n",
    "tokenizer.fit_on_texts(sentences)"
   ]
  },
  {
   "cell_type": "code",
   "execution_count": 12,
   "metadata": {},
   "outputs": [
    {
     "name": "stdout",
     "output_type": "stream",
     "text": [
      "361960\n"
     ]
    }
   ],
   "source": [
    "word_index = tokenizer.word_index\n",
    "vocab_size = len(word_index)\n",
    "print(vocab_size)"
   ]
  },
  {
   "cell_type": "code",
   "execution_count": 13,
   "metadata": {},
   "outputs": [
    {
     "name": "stdout",
     "output_type": "stream",
     "text": [
      "[[5, 19, 106, 11, 6, 118809, 245], [1, 237, 3, 71, 754, 1217], [217, 66, 188, 409]]\n"
     ]
    }
   ],
   "source": [
    "sequences = tokenizer.texts_to_sequences(sentences)\n",
    "print(sequences[:3])"
   ]
  },
  {
   "cell_type": "code",
   "execution_count": 14,
   "metadata": {},
   "outputs": [
    {
     "name": "stdout",
     "output_type": "stream",
     "text": [
      "[[    5    19   106 ...     0     0     0]\n",
      " [    1   237     3 ...     0     0     0]\n",
      " [  217    66   188 ...     0     0     0]\n",
      " ...\n",
      " [21866   132    38 ...     0     0     0]\n",
      " [37418  1975    48 ...     0     0     0]\n",
      " [80363     1   109 ...     0     0     0]]\n"
     ]
    }
   ],
   "source": [
    "padded = pad_sequences(sequences, maxlen=max_length, padding=padding_type, truncating=trunc_type)\n",
    "print(padded)"
   ]
  },
  {
   "cell_type": "code",
   "execution_count": 15,
   "metadata": {},
   "outputs": [
    {
     "data": {
      "text/plain": [
       "(1578612, 120)"
      ]
     },
     "execution_count": 15,
     "metadata": {},
     "output_type": "execute_result"
    }
   ],
   "source": [
    "padded.shape"
   ]
  },
  {
   "cell_type": "code",
   "execution_count": 16,
   "metadata": {},
   "outputs": [],
   "source": [
    "embeddings_index = {};\n",
    "with open('glove.twitter.27B.200d.txt') as f:\n",
    "    for line in f:\n",
    "        values = line.split()\n",
    "        word = values[0]\n",
    "        coefs = np.asarray(values[1:], dtype='float32')\n",
    "        embeddings_index[word] = coefs"
   ]
  },
  {
   "cell_type": "code",
   "execution_count": 17,
   "metadata": {},
   "outputs": [],
   "source": [
    "embeddings_matrix = np.zeros((vocab_size+1, embedding_dim))\n",
    "for word, i in word_index.items():\n",
    "    embedding_vector = embeddings_index.get(word)\n",
    "    if embedding_vector is not None:\n",
    "        embeddings_matrix[i] = embedding_vector"
   ]
  },
  {
   "cell_type": "code",
   "execution_count": 18,
   "metadata": {},
   "outputs": [
    {
     "name": "stdout",
     "output_type": "stream",
     "text": [
      "361961\n"
     ]
    }
   ],
   "source": [
    "print(len(embeddings_matrix))"
   ]
  },
  {
   "cell_type": "markdown",
   "metadata": {},
   "source": [
    "### Train the model"
   ]
  },
  {
   "cell_type": "code",
   "execution_count": 19,
   "metadata": {},
   "outputs": [],
   "source": [
    "from sklearn.model_selection import train_test_split\n",
    "X = padded\n",
    "y = data['Sentiment'].values"
   ]
  },
  {
   "cell_type": "code",
   "execution_count": 20,
   "metadata": {},
   "outputs": [],
   "source": [
    "X_train, X_test, y_train, y_test = train_test_split(X, y, test_size=0.2, random_state=42, stratify=y)"
   ]
  },
  {
   "cell_type": "code",
   "execution_count": 21,
   "metadata": {},
   "outputs": [
    {
     "name": "stdout",
     "output_type": "stream",
     "text": [
      "Model: \"sequential\"\n",
      "_________________________________________________________________\n",
      "Layer (type)                 Output Shape              Param #   \n",
      "=================================================================\n",
      "embedding (Embedding)        (None, 120, 200)          72392200  \n",
      "_________________________________________________________________\n",
      "dropout (Dropout)            (None, 120, 200)          0         \n",
      "_________________________________________________________________\n",
      "conv1d (Conv1D)              (None, 116, 64)           64064     \n",
      "_________________________________________________________________\n",
      "max_pooling1d (MaxPooling1D) (None, 29, 64)            0         \n",
      "_________________________________________________________________\n",
      "lstm (LSTM)                  (None, 64)                33024     \n",
      "_________________________________________________________________\n",
      "dense (Dense)                (None, 1)                 65        \n",
      "=================================================================\n",
      "Total params: 72,489,353\n",
      "Trainable params: 97,153\n",
      "Non-trainable params: 72,392,200\n",
      "_________________________________________________________________\n"
     ]
    }
   ],
   "source": [
    "model = Sequential([\n",
    "    Embedding(vocab_size+1, embedding_dim, input_length=max_length, weights=[embeddings_matrix], trainable=False),\n",
    "    Dropout(0.2),\n",
    "    Conv1D(64, 5, activation='relu'),\n",
    "    MaxPooling1D(pool_size=4),\n",
    "    LSTM(64),\n",
    "    Dense(1, activation='sigmoid')\n",
    "])\n",
    "model.compile(loss='binary_crossentropy',optimizer=Adam(lr=0.001),metrics=['accuracy'])\n",
    "model.summary()"
   ]
  },
  {
   "cell_type": "code",
   "execution_count": 22,
   "metadata": {},
   "outputs": [
    {
     "name": "stdout",
     "output_type": "stream",
     "text": [
      "Epoch 1/10\n",
      "39466/39466 [==============================] - 3463s 88ms/step - loss: 0.4432 - accuracy: 0.7923 - val_loss: 0.4112 - val_accuracy: 0.8127\n",
      "Epoch 2/10\n",
      "39466/39466 [==============================] - 3347s 85ms/step - loss: 0.4179 - accuracy: 0.8066 - val_loss: 0.4077 - val_accuracy: 0.8148\n",
      "Epoch 3/10\n",
      "39466/39466 [==============================] - 3001s 76ms/step - loss: 0.4107 - accuracy: 0.8112 - val_loss: 0.4027 - val_accuracy: 0.8168\n",
      "Epoch 4/10\n",
      "39466/39466 [==============================] - 3508s 89ms/step - loss: 0.4069 - accuracy: 0.8138 - val_loss: 0.3994 - val_accuracy: 0.8185\n",
      "Epoch 5/10\n",
      "39466/39466 [==============================] - 3632s 92ms/step - loss: 0.4044 - accuracy: 0.8148 - val_loss: 0.4000 - val_accuracy: 0.8192\n",
      "Epoch 6/10\n",
      "39466/39466 [==============================] - 4161s 105ms/step - loss: 0.4026 - accuracy: 0.8162 - val_loss: 0.3988 - val_accuracy: 0.8195\n",
      "Epoch 7/10\n",
      "39466/39466 [==============================] - 4324s 110ms/step - loss: 0.4009 - accuracy: 0.8168 - val_loss: 0.3988 - val_accuracy: 0.8207\n",
      "Epoch 8/10\n",
      "39466/39466 [==============================] - 5369s 136ms/step - loss: 0.4004 - accuracy: 0.8172 - val_loss: 0.3981 - val_accuracy: 0.8190\n",
      "Epoch 9/10\n",
      "39466/39466 [==============================] - 2725s 69ms/step - loss: 0.3996 - accuracy: 0.8176 - val_loss: 0.3970 - val_accuracy: 0.8203\n",
      "Epoch 10/10\n",
      "39466/39466 [==============================] - 2432s 62ms/step - loss: 0.3992 - accuracy: 0.8178 - val_loss: 0.3972 - val_accuracy: 0.8209\n"
     ]
    }
   ],
   "source": [
    "history = model.fit(X_train, y_train, epochs=10, validation_data=(X_test, y_test), batch_size=32, verbose=1)"
   ]
  },
  {
   "cell_type": "markdown",
   "metadata": {},
   "source": [
    "### Training vs Validation Accuracy and Loss Plot"
   ]
  },
  {
   "cell_type": "code",
   "execution_count": 23,
   "metadata": {},
   "outputs": [
    {
     "data": {
      "text/plain": [
       "<Figure size 432x288 with 0 Axes>"
      ]
     },
     "execution_count": 23,
     "metadata": {},
     "output_type": "execute_result"
    },
    {
     "data": {
      "image/png": "[encoded data removed]",
      "text/plain": [
       "<Figure size 432x288 with 1 Axes>"
      ]
     },
     "metadata": {
      "needs_background": "light"
     },
     "output_type": "display_data"
    },
    {
     "data": {
      "image/png": "[encoded data removed]",
      "text/plain": [
       "<Figure size 432x288 with 1 Axes>"
      ]
     },
     "metadata": {
      "needs_background": "light"
     },
     "output_type": "display_data"
    },
    {
     "data": {
      "text/plain": [
       "<Figure size 432x288 with 0 Axes>"
      ]
     },
     "metadata": {},
     "output_type": "display_data"
    }
   ],
   "source": [
    "import matplotlib.pyplot as plt\n",
    "\n",
    "acc = history.history['accuracy']\n",
    "val_acc = history.history['val_accuracy']\n",
    "loss = history.history['loss']\n",
    "val_loss = history.history['val_loss']\n",
    "\n",
    "epochs=range(len(acc))\n",
    "\n",
    "# Plot training and validation accuracy per epoch\n",
    "plt.plot(epochs, acc, 'r')\n",
    "plt.plot(epochs, val_acc, 'b')\n",
    "plt.title('Training and validation accuracy')\n",
    "plt.xlabel(\"Epochs\")\n",
    "plt.ylabel(\"Accuracy\")\n",
    "plt.legend([\"Accuracy\", \"Validation Accuracy\"])\n",
    "\n",
    "plt.figure()\n",
    "\n",
    "# Plot training and validation loss per epoch\n",
    "plt.plot(epochs, loss, 'r')\n",
    "plt.plot(epochs, val_loss, 'b')\n",
    "plt.title('Training and validation loss')\n",
    "plt.xlabel(\"Epochs\")\n",
    "plt.ylabel(\"Loss\")\n",
    "plt.legend([\"Loss\", \"Validation Loss\"])\n",
    "\n",
    "plt.figure()"
   ]
  },
  {
   "cell_type": "markdown",
   "metadata": {},
   "source": [
    "### Predicting on Test Data"
   ]
  },
  {
   "cell_type": "code",
   "execution_count": 24,
   "metadata": {},
   "outputs": [],
   "source": [
    "def text_encoder(s):\n",
    "    s = text_cleaner(s)\n",
    "    s = tokenizer.texts_to_sequences([s])\n",
    "    s = pad_sequences(s, maxlen=max_length, padding=padding_type, truncating=trunc_type)\n",
    "    return s"
   ]
  },
  {
   "cell_type": "code",
   "execution_count": 28,
   "metadata": {},
   "outputs": [
    {
     "name": "stdout",
     "output_type": "stream",
     "text": [
      "Predicted class is 1.\n"
     ]
    }
   ],
   "source": [
    "pred = (model.predict(text_encoder([\"It is fun and easy to do sentiment analysis!\"])) > 0.5).astype(\"int32\")[0][0]\n",
    "print(\"Predicted class is {}.\".format(pred))"
   ]
  },
  {
   "cell_type": "code",
   "execution_count": 29,
   "metadata": {},
   "outputs": [
    {
     "name": "stdout",
     "output_type": "stream",
     "text": [
      "Predicted class is 0.\n"
     ]
    }
   ],
   "source": [
    "pred = (model.predict(text_encoder([\"I don't like reading all the negative Tweets!\"])) > 0.5).astype(\"int32\")[0][0]\n",
    "print(\"Predicted class is {}.\".format(pred))"
   ]
  },
  {
   "cell_type": "code",
   "execution_count": null,
   "metadata": {},
   "outputs": [],
   "source": []
  }
 ],
 "metadata": {
  "kernelspec": {
   "display_name": "Python 3",
   "language": "python",
   "name": "python3"
  },
  "language_info": {
   "codemirror_mode": {
    "name": "ipython",
    "version": 3
   },
   "file_extension": ".py",
   "mimetype": "text/x-python",
   "name": "python",
   "nbconvert_exporter": "python",
   "pygments_lexer": "ipython3",
   "version": "3.7.4"
  }
 },
 "nbformat": 4,
 "nbformat_minor": 4
}
